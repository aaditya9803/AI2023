{
 "cells": [
  {
   "cell_type": "code",
   "execution_count": 1,
   "id": "d50a0549",
   "metadata": {},
   "outputs": [],
   "source": [
    "from sklearn.datasets import fetch_california_housing\n",
    "from sklearn.linear_model import LinearRegression\n",
    "from sklearn.metrics import mean_squared_error\n",
    "import pandas as pd\n",
    "import numpy as np"
   ]
  },
  {
   "cell_type": "code",
   "execution_count": 2,
   "id": "c7975a93",
   "metadata": {},
   "outputs": [],
   "source": [
    "#Gathering Data\n",
    "cali_dataset = fetch_california_housing()\n",
    "data = pd.DataFrame(data=cali_dataset.data,columns=cali_dataset.feature_names)\n",
    "# print(data)\n",
    "features = data.drop(['Population','AveOccup'],axis=1)\n",
    "log_prices = np.log(cali_dataset.target)\n",
    "target = pd.DataFrame(log_prices, columns=['PRICE'])"
   ]
  },
  {
   "cell_type": "code",
   "execution_count": 3,
   "id": "4c6566d3",
   "metadata": {},
   "outputs": [
    {
     "name": "stdout",
     "output_type": "stream",
     "text": [
      "       MedInc  HouseAge  AveRooms  AveBedrms  Latitude  Longitude\n",
      "0      8.3252      41.0  6.984127   1.023810     37.88    -122.23\n",
      "1      8.3014      21.0  6.238137   0.971880     37.86    -122.22\n",
      "2      7.2574      52.0  8.288136   1.073446     37.85    -122.24\n",
      "3      5.6431      52.0  5.817352   1.073059     37.85    -122.25\n",
      "4      3.8462      52.0  6.281853   1.081081     37.85    -122.25\n",
      "...       ...       ...       ...        ...       ...        ...\n",
      "20635  1.5603      25.0  5.045455   1.133333     39.48    -121.09\n",
      "20636  2.5568      18.0  6.114035   1.315789     39.49    -121.21\n",
      "20637  1.7000      17.0  5.205543   1.120092     39.43    -121.22\n",
      "20638  1.8672      18.0  5.329513   1.171920     39.43    -121.32\n",
      "20639  2.3886      16.0  5.254717   1.162264     39.37    -121.24\n",
      "\n",
      "[20640 rows x 6 columns]\n"
     ]
    }
   ],
   "source": [
    "print (features)\n",
    "inc_idx=0\n",
    "age_idx=1\n",
    "rooms_idx=2\n",
    "bedrms_idx=3\n",
    "lati_idx=4\n",
    "longi_idx=5"
   ]
  },
  {
   "cell_type": "code",
   "execution_count": 4,
   "id": "51323701",
   "metadata": {},
   "outputs": [
    {
     "name": "stdout",
     "output_type": "stream",
     "text": [
      "[[   3.870671     28.63948643    5.42899974    1.09667515   35.63186143\n",
      "  -119.56970446]]\n"
     ]
    }
   ],
   "source": [
    "property_stats = features.mean().values.reshape(1,6)\n",
    "print(property_stats)"
   ]
  },
  {
   "cell_type": "code",
   "execution_count": 5,
   "id": "47d1bea0",
   "metadata": {},
   "outputs": [],
   "source": [
    "regr = LinearRegression().fit(features,target)\n",
    "fitted_vals = regr.predict(features)"
   ]
  },
  {
   "cell_type": "code",
   "execution_count": 6,
   "id": "b536fbaf",
   "metadata": {},
   "outputs": [],
   "source": [
    "#Calculating the MSE and RMSE using sklearn\n",
    "MSE = mean_squared_error(target,fitted_vals)\n",
    "RMSE = np.sqrt(MSE)"
   ]
  },
  {
   "cell_type": "code",
   "execution_count": 9,
   "id": "7f12cd5f",
   "metadata": {},
   "outputs": [],
   "source": [
    "def get_log_estimate(house_age, no_rooms, no_bdrooms,high_confidence=True):\n",
    "    #configuring property\n",
    "    property_stats[0][rooms_idx]=no_rooms\n",
    "    property_stats[0][bedrms_idx]=no_bdrooms\n",
    "    property_stats[0][age_idx]=house_age\n",
    "    \n",
    "    #Making prediction\n",
    "    log_estimate = regr.predict(property_stats)[0][0]\n",
    "    \n",
    "    #Calculating Range\n",
    "    if high_confidence:\n",
    "        upper_bound=log_estimate + 2*RMSE\n",
    "        lower_bound=log_estimate - 2*RMSE\n",
    "        interval = 95\n",
    "    else:\n",
    "        upper_bound=log_estimate + RMSE\n",
    "        lower_bound=log_estimate - RMSE\n",
    "        interval = 68       \n",
    "    return log_estimate, upper_bound, lower_bound, interval"
   ]
  },
  {
   "cell_type": "code",
   "execution_count": 36,
   "id": "4c2729cb",
   "metadata": {},
   "outputs": [
    {
     "name": "stderr",
     "output_type": "stream",
     "text": [
      "C:\\Python310\\lib\\site-packages\\sklearn\\base.py:420: UserWarning: X does not have valid feature names, but LinearRegression was fitted with feature names\n",
      "  warnings.warn(\n"
     ]
    },
    {
     "data": {
      "text/plain": [
       "(0.5457873332978842, 0.8996997205998898, 0.19187494599587868, 68)"
      ]
     },
     "execution_count": 36,
     "metadata": {},
     "output_type": "execute_result"
    }
   ],
   "source": [
    "get_log_estimate(20,5,1,high_confidence=False)"
   ]
  },
  {
   "cell_type": "markdown",
   "id": "8904046f",
   "metadata": {},
   "source": [
    "# Price Scaling"
   ]
  },
  {
   "cell_type": "code",
   "execution_count": 28,
   "id": "9e963f0f",
   "metadata": {},
   "outputs": [
    {
     "name": "stdout",
     "output_type": "stream",
     "text": [
      "The estimated property values is $576000\n",
      "At 68% confidence the vauation range is:\n",
      " $405000 at the lowest to $821000 at the highest\n"
     ]
    },
    {
     "name": "stderr",
     "output_type": "stream",
     "text": [
      "C:\\Python310\\lib\\site-packages\\sklearn\\base.py:420: UserWarning: X does not have valid feature names, but LinearRegression was fitted with feature names\n",
      "  warnings.warn(\n"
     ]
    }
   ],
   "source": [
    "#Scaling as the price increases as per time.\n",
    "median_price = 6.0 \n",
    "# $600,000 as per ramseysolutions\n",
    "scale_factor = median_price / np.median(cali_dataset.target)\n",
    "log_est, upper, lower, conf = get_log_estimate(20,5,1,high_confidence=False)\n",
    "#Converting to today's dollar\n",
    "dollar_est = np.e**log_est*100000*scale_factor\n",
    "dollar_hi = np.e**upper*100000*scale_factor\n",
    "dollar_low = np.e**lower*100000*scale_factor\n",
    "#Rounding the values to nearest hundred thousand\n",
    "rounded_est = int(np.around(dollar_est, -3))\n",
    "rounded_hi = int(np.around(dollar_hi,-3))\n",
    "rounded_low = int(np.around(dollar_low,-3))\n",
    "#\n",
    "print(f'The estimated property values is ${rounded_est}')\n",
    "print(f'At {conf}% confidence the vauation range is:')\n",
    "print(f' ${rounded_low} at the lowest to ${rounded_hi} at the highest')\n"
   ]
  },
  {
   "cell_type": "code",
   "execution_count": null,
   "id": "bcf5aa1a",
   "metadata": {},
   "outputs": [],
   "source": []
  }
 ],
 "metadata": {
  "kernelspec": {
   "display_name": "Python 3 (ipykernel)",
   "language": "python",
   "name": "python3"
  },
  "language_info": {
   "codemirror_mode": {
    "name": "ipython",
    "version": 3
   },
   "file_extension": ".py",
   "mimetype": "text/x-python",
   "name": "python",
   "nbconvert_exporter": "python",
   "pygments_lexer": "ipython3",
   "version": "3.10.7"
  }
 },
 "nbformat": 4,
 "nbformat_minor": 5
}
